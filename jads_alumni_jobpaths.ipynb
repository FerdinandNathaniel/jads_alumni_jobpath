{
 "cells": [
  {
   "cell_type": "code",
   "execution_count": 124,
   "id": "2bf0e9f2",
   "metadata": {},
   "outputs": [],
   "source": [
    "# imports\n",
    "import pandas as pd\n",
    "import plotly.graph_objects as go"
   ]
  },
  {
   "cell_type": "code",
   "execution_count": 125,
   "id": "d1aaddfa",
   "metadata": {},
   "outputs": [
    {
     "data": {
      "text/html": [
       "<div>\n",
       "<style scoped>\n",
       "    .dataframe tbody tr th:only-of-type {\n",
       "        vertical-align: middle;\n",
       "    }\n",
       "\n",
       "    .dataframe tbody tr th {\n",
       "        vertical-align: top;\n",
       "    }\n",
       "\n",
       "    .dataframe thead th {\n",
       "        text-align: right;\n",
       "    }\n",
       "</style>\n",
       "<table border=\"1\" class=\"dataframe\">\n",
       "  <thead>\n",
       "    <tr style=\"text-align: right;\">\n",
       "      <th></th>\n",
       "      <th>snr</th>\n",
       "      <th>employer</th>\n",
       "      <th>role</th>\n",
       "      <th>industry</th>\n",
       "      <th>organization_type</th>\n",
       "      <th>job_title</th>\n",
       "    </tr>\n",
       "  </thead>\n",
       "  <tbody>\n",
       "    <tr>\n",
       "      <th>0</th>\n",
       "      <td>2007400</td>\n",
       "      <td>Floryn</td>\n",
       "      <td>Data Scientist</td>\n",
       "      <td>Finance</td>\n",
       "      <td>Start-up/Scale-up</td>\n",
       "      <td>Entrepreneurial Data Analyst</td>\n",
       "    </tr>\n",
       "    <tr>\n",
       "      <th>1</th>\n",
       "      <td>1250535</td>\n",
       "      <td>vd Vleuten Elektrotechniek &amp; Beveiliging BV</td>\n",
       "      <td>Allround Employee</td>\n",
       "      <td>Building and Construction</td>\n",
       "      <td>SME</td>\n",
       "      <td>Other</td>\n",
       "    </tr>\n",
       "    <tr>\n",
       "      <th>2</th>\n",
       "      <td>2007307</td>\n",
       "      <td>ABN AMRO Bank N.V.</td>\n",
       "      <td>Data Scientist</td>\n",
       "      <td>Finance</td>\n",
       "      <td>Large corporates &amp; multinationals</td>\n",
       "      <td>Entrepreneurial Data Analyst</td>\n",
       "    </tr>\n",
       "    <tr>\n",
       "      <th>3</th>\n",
       "      <td>2005986</td>\n",
       "      <td>Bain &amp; Company</td>\n",
       "      <td>Manager Data Science</td>\n",
       "      <td>Consulting</td>\n",
       "      <td>Large corporates &amp; multinationals</td>\n",
       "      <td>Data Consultant/Entrepreneur</td>\n",
       "    </tr>\n",
       "    <tr>\n",
       "      <th>4</th>\n",
       "      <td>2007450</td>\n",
       "      <td>PostNL</td>\n",
       "      <td>Data Scientist</td>\n",
       "      <td>Public governance</td>\n",
       "      <td>Large corporates &amp; multinationals</td>\n",
       "      <td>Entrepreneurial Data Analyst</td>\n",
       "    </tr>\n",
       "    <tr>\n",
       "      <th>...</th>\n",
       "      <td>...</td>\n",
       "      <td>...</td>\n",
       "      <td>...</td>\n",
       "      <td>...</td>\n",
       "      <td>...</td>\n",
       "      <td>...</td>\n",
       "    </tr>\n",
       "    <tr>\n",
       "      <th>216</th>\n",
       "      <td>2047057</td>\n",
       "      <td>Ahti</td>\n",
       "      <td>Junior Data Scientist</td>\n",
       "      <td>Healthcare</td>\n",
       "      <td>Government, municipalities and non-profit</td>\n",
       "      <td>Entrepreneurial Data Analyst</td>\n",
       "    </tr>\n",
       "    <tr>\n",
       "      <th>218</th>\n",
       "      <td>2048198</td>\n",
       "      <td>Data Scientist</td>\n",
       "      <td>Itility</td>\n",
       "      <td>Information tech. &amp; services</td>\n",
       "      <td>Large corporates &amp; multinationals</td>\n",
       "      <td>Entrepreneurial Data Analyst</td>\n",
       "    </tr>\n",
       "    <tr>\n",
       "      <th>219</th>\n",
       "      <td>2045585</td>\n",
       "      <td>Data Science Intern</td>\n",
       "      <td>European Central Bank</td>\n",
       "      <td>Finance</td>\n",
       "      <td>Government, municipalities and non-profit</td>\n",
       "      <td>Entrepreneurial Data Analyst</td>\n",
       "    </tr>\n",
       "    <tr>\n",
       "      <th>221</th>\n",
       "      <td>2043054</td>\n",
       "      <td>Eurofiber Nederland</td>\n",
       "      <td>Data Analyst</td>\n",
       "      <td>Information Tech. &amp; Services</td>\n",
       "      <td>SME</td>\n",
       "      <td>Entrepreneurial Data Analyst</td>\n",
       "    </tr>\n",
       "    <tr>\n",
       "      <th>222</th>\n",
       "      <td>2031107</td>\n",
       "      <td>n.v.t.</td>\n",
       "      <td>n.v.t.</td>\n",
       "      <td>Information Tech. &amp; Services</td>\n",
       "      <td>Freelance</td>\n",
       "      <td>Data Consultant/Entrepreneur</td>\n",
       "    </tr>\n",
       "  </tbody>\n",
       "</table>\n",
       "<p>202 rows × 6 columns</p>\n",
       "</div>"
      ],
      "text/plain": [
       "         snr                                     employer  \\\n",
       "0    2007400                                       Floryn   \n",
       "1    1250535  vd Vleuten Elektrotechniek & Beveiliging BV   \n",
       "2    2007307                           ABN AMRO Bank N.V.   \n",
       "3    2005986                               Bain & Company   \n",
       "4    2007450                                       PostNL   \n",
       "..       ...                                          ...   \n",
       "216  2047057                                         Ahti   \n",
       "218  2048198                               Data Scientist   \n",
       "219  2045585                          Data Science Intern   \n",
       "221  2043054                          Eurofiber Nederland   \n",
       "222  2031107                                       n.v.t.   \n",
       "\n",
       "                      role                      industry  \\\n",
       "0           Data Scientist                       Finance   \n",
       "1        Allround Employee     Building and Construction   \n",
       "2           Data Scientist                       Finance   \n",
       "3     Manager Data Science                    Consulting   \n",
       "4           Data Scientist             Public governance   \n",
       "..                     ...                           ...   \n",
       "216  Junior Data Scientist                    Healthcare   \n",
       "218                Itility  Information tech. & services   \n",
       "219  European Central Bank                       Finance   \n",
       "221           Data Analyst  Information Tech. & Services   \n",
       "222                 n.v.t.  Information Tech. & Services   \n",
       "\n",
       "                             organization_type                     job_title  \n",
       "0                            Start-up/Scale-up  Entrepreneurial Data Analyst  \n",
       "1                                          SME                         Other  \n",
       "2            Large corporates & multinationals  Entrepreneurial Data Analyst  \n",
       "3            Large corporates & multinationals  Data Consultant/Entrepreneur  \n",
       "4            Large corporates & multinationals  Entrepreneurial Data Analyst  \n",
       "..                                         ...                           ...  \n",
       "216  Government, municipalities and non-profit  Entrepreneurial Data Analyst  \n",
       "218          Large corporates & multinationals  Entrepreneurial Data Analyst  \n",
       "219  Government, municipalities and non-profit  Entrepreneurial Data Analyst  \n",
       "221                                        SME  Entrepreneurial Data Analyst  \n",
       "222                                  Freelance  Data Consultant/Entrepreneur  \n",
       "\n",
       "[202 rows x 6 columns]"
      ]
     },
     "execution_count": 125,
     "metadata": {},
     "output_type": "execute_result"
    }
   ],
   "source": [
    "# Read in data\n",
    "df = pd.read_excel('2022-03-17 Graduates MDSE - current jobs.xlsx')\n",
    "\n",
    "# Correct columns\n",
    "new_columns = ['snr', 'employer', 'role', 'industry', 'organization_type', 'job_title']\n",
    "df = df.set_axis(new_columns, axis = 1)\n",
    "\n",
    "# Drop NaN\n",
    "df = df.dropna()\n",
    "\n",
    "# Change 'Government' since it is redundant\n",
    "df.loc[df[\"organization_type\"] == \"Government\", \"organization_type\"] = \"Government, municipalities and non-profit\"\n",
    "\n",
    "# Print data\n",
    "df"
   ]
  },
  {
   "cell_type": "code",
   "execution_count": 126,
   "id": "ed162d5b",
   "metadata": {},
   "outputs": [
    {
     "name": "stdout",
     "output_type": "stream",
     "text": [
      "=====For the column 'employer'=====\n",
      "\n",
      "uniques count: 153\n",
      "uniques: ['Floryn' 'vd Vleuten Elektrotechniek & Beveiliging BV'\n",
      " 'ABN AMRO Bank N.V.' 'Bain & Company' 'PostNL' 'Viqtor Davis'\n",
      " 'Digital Power' 'Sendcloud' 'Bundesdruckerei' 'LionsTale' 'Nippur'\n",
      " 'Enjins' 'Channext' 'Koninklijke Luchtvaart Maatschappij(KLM)' '3D HUBS'\n",
      " 'Nextgem' 'Heijmans' 'IKNL (Integraal Kankercentrum Nederland)' 'Ilionx'\n",
      " 'Sogeti' 'Cognizant' 'Funda' 'GoDataDriven' 'Prosperty'\n",
      " 'JADS MKB Datalab' 'Techonomy' 'Admolly' 'Ikbenfrits'\n",
      " 'JADS/Tilburg University' 'Accenture' 'Carepay'\n",
      " 'Uitgetypt.nl/MSdVServices' 'Rabobank' 'Bluetick' 'Wartsila Netherlands'\n",
      " 'Auditdienst Rijk' 'Via Traffic Solutions Software' 'Quooker B.V.'\n",
      " 'Eneco' 'Rijk Zwaan' 'Vartion' 'Kinetic Analysis' 'ORTEC B.V.'\n",
      " 'DPG Media Nederland' 'IG&H Consulting & Interim' 'Beet' 'Marketredesign'\n",
      " 'Visionairy' 'Valcon / Intense'\n",
      " 'Koninklijk Nederlands Meteorologisch Instituut (KNMI)' 'Lynxx'\n",
      " 'Eindhoven University of Technology'\n",
      " 'e-Luscious B2C Wine, Coffee and more'\n",
      " 'PhD candidate - AI for Manufacturing' 'ACT Regtech Solutions'\n",
      " 'Belastingdienst' 'KPMG Denmark' '247TailorSteel' 'Kempen & Co'\n",
      " 'Illumina' 'Just Eat Takeaway.com' 'Ministerie van Buitenlandse zaken'\n",
      " 'PepsiCo' 'Celonis' 'NTT Data' 'Pandora Intelligence' 'Sanitairwinkel'\n",
      " 'Whitebox Data Science' 'Itility' 'Strategy01' 'DLL' 'IDEXX' 'Maxaro'\n",
      " 'Tracey' 'J.J.van Hooren Consultancy' 'NXP Semiconductors'\n",
      " 'Royal Swinkels Family Brewers' 'SETAR NV' 'Nestlé '\n",
      " 'CytoSMART Technologies B.V' 'CBRE' 'DHL' 'QforIT' 'Glovo' 'Navara'\n",
      " 'Euroclear' 'TNO' 'MedApp' 'BearingPoint' 'Prodrive Technologies' 'ASML'\n",
      " 'Transactie Monitoring Nederland (TMNL)' 'Ventus'\n",
      " 'Oracle Health Insurance' 'Adyen' 'VodafoneZiggo' 'DI-VISION Consulting'\n",
      " 'Nike (via Blenddata) / Blenddata' 'Achmea Bank' 'BMN Nederland'\n",
      " 'Blenddata' 'Deloitte' 'ElastIQ-Connect' 'LeydenJar Technologies B.V.'\n",
      " 'UiPath' 'Pebble' 'Unilever' 'Data Young Professional\\xa0' 'LINKIT'\n",
      " 'Bright Cape' 'Vlammrs (via ORMIT)' 'EY - Parthenon'\n",
      " 'A.S.R. Verzekeringen ' 'Amazon' 'Smart Sourcing Solutions' 'Bol.com'\n",
      " 'DAF Trucks NV' 'Hendrix Genetics' \"Moody's Analytics\" 'Vanderlande'\n",
      " 'GX Software' 'inin' 'Ordina' 'Van Spaendonck Development' 'WalnutData'\n",
      " 'Checkd' 'Data Scientist' 'Quantile' 'ING' 'Stactics' 'JADS'\n",
      " 'Main Capital Partners' 'YSE' 'Interactive Studios' 'Dept Agency'\n",
      " 'Diebold Nixdorf' 'TravPRO Mobile' 'Esri Nederland' 'Microsoft' 'Robeco'\n",
      " 'Techleap' 'Data Solutions Jeroen Vermunt' 'Leading Apps' 'Analautics'\n",
      " 'ABN AMRO Asset Based Finance' 'Inspectie van het Onderwijs'\n",
      " 'KISSPlatform' 'Protiviti' 'CatchSystems' 'Ahti' 'Data Science Intern'\n",
      " 'Eurofiber Nederland' 'n.v.t.']\n",
      "\n",
      "\n",
      "=====For the column 'role'=====\n",
      "\n",
      "uniques count: 100\n",
      "uniques: ['Data Scientist' 'Allround Employee' 'Manager Data Science'\n",
      " 'Data Analyst' 'Data Engineer' 'Quantitative Business Analyst'\n",
      " 'Business Development - trusted data solutions' 'Founder'\n",
      " 'Data & Analytics Consultant' 'Lead ML Engineer' 'Analytics Engineer'\n",
      " 'Data Analist' 'Python-ontwikkelaar' 'Senior Data Scientist'\n",
      " 'Head of Data Science' 'Data Scientist Project Manager'\n",
      " 'Co-Founder & Data Scientist' 'PHD Student' 'Data Science Consultant'\n",
      " 'Data Science Researcher' 'Founder and CEO'\n",
      " 'Founder and Chief Product Officer' 'Founder and COO' 'Founder and CTO'\n",
      " 'Business Analyst' 'Smart Metering Analyst'\n",
      " 'Specialist Projects Data Science' 'Founder and Data Scientist'\n",
      " 'Data Science Consultant / Co-founder' 'Software Engineer'\n",
      " 'Senior Consultant' 'PhD Candidate' 'Eindhoven University of Technology'\n",
      " 'Data Scientist / Consultant' 'Consultant - NewTech'\n",
      " 'Data Science Engineer' 'Corporate Finance Analyst'\n",
      " 'Business Process Analyst' 'Junior Data Scientist' 'eCommerce Lead'\n",
      " 'Detecting Financial Crime Data Trainee' 'SAP Consultant' 'Co-Founder'\n",
      " 'Global Reporting & Analytics Consultant' 'Data Consultant'\n",
      " 'Business Intelligence & Reporting Analist' 'Data Analyst EMEA'\n",
      " 'Data Management Operator' 'Business Developer'\n",
      " 'Product Owner Data Integration' 'Management Analyst' 'Junior Consultant'\n",
      " 'Machine Learning Engineer' 'Directeur Ventus Data Professionals'\n",
      " 'Senior Associate Data Scientist' 'Discover Trainee Technology'\n",
      " 'Data Engineer / Co-founder and Data Engineer' 'Projectmanager'\n",
      " 'Data Analytics Trainee' 'Data Scientist/Engineer' 'Head of AI & IT'\n",
      " 'Product Manager' 'Azure Data Engineer' 'Data Visualisation Specialist'\n",
      " 'YSE' 'ML Engineer' 'IT & Data Science Consultant'\n",
      " 'Data Engineering Trainee' 'Junior Implementation Consultant'\n",
      " 'Young Data Science Professional'\n",
      " 'Data Scientist - Global Transaction Monitoring'\n",
      " 'Consultant - Transaction Strategy and Execution'\n",
      " 'Trainee digitalisering & process management bij Leven en Pensioenen'\n",
      " 'Business Intelligence Engineer' 'IT Consultant & Data Engineer'\n",
      " 'Director & Co-founder' 'AI Analyst' 'Process Engineer'\n",
      " 'Data Scientist & Technical Consultant' 'Data Scientist & Consultant'\n",
      " 'Co-founder' 'Bright Cape' 'Business Consultant' 'ITP Analytics Trainee'\n",
      " 'Consultant' 'Analyst' 'PDEng student' 'Research Analyst'\n",
      " 'Data Young Professional' 'Data Science Trainee' 'BI Data Analyst'\n",
      " 'Junior Engineer' 'Infrastructure Consultant'\n",
      " 'Business Intelligence Specialist' 'Data Manager'\n",
      " 'Data Science Projectmanager' 'AI Developer' 'Itility'\n",
      " 'European Central Bank' 'n.v.t.']\n",
      "\n",
      "\n",
      "=====For the column 'industry'=====\n",
      "\n",
      "uniques count: 16\n",
      "uniques: ['Finance' 'Building and Construction' 'Consulting' 'Public governance'\n",
      " 'Information Tech. & Services' 'Research/Education'\n",
      " 'Marketing and advertising' 'Others' 'Manufacturing' 'Healthcare'\n",
      " 'Energy & Sustainability' 'FMCG' 'Media and entertainment'\n",
      " 'Information tech. & services' 'Automotive'\n",
      " 'Leisure, media, entertainment']\n",
      "\n",
      "\n",
      "=====For the column 'organization_type'=====\n",
      "\n",
      "uniques count: 6\n",
      "uniques: ['Start-up/Scale-up' 'SME' 'Large corporates & multinationals'\n",
      " 'Government, municipalities and non-profit'\n",
      " 'University or academic institute' 'Freelance']\n",
      "\n",
      "\n",
      "=====For the column 'job_title'=====\n",
      "\n",
      "uniques count: 5\n",
      "uniques: ['Entrepreneurial Data Analyst' 'Other' 'Data Consultant/Entrepreneur'\n",
      " 'Data-Driven Researcher/PHD-Candidate' 'Entrepreneurial Data Engineer']\n",
      "\n",
      "\n"
     ]
    }
   ],
   "source": [
    "# Data analysis\n",
    "for column in range(1, len(df.columns)):\n",
    "    uniques_count = len(df.iloc[:,column].unique())\n",
    "    uniques = df.iloc[:,column].unique()\n",
    "    \n",
    "    print(\"=====For the column '{0}'=====\\n\".format(df.columns[column]))\n",
    "    print(\"uniques count: {0}\\nuniques: {1}\\n\\n\".format(uniques_count, uniques))"
   ]
  },
  {
   "cell_type": "code",
   "execution_count": 127,
   "id": "92e153d5",
   "metadata": {},
   "outputs": [],
   "source": [
    "# transform df into a source-target pair for Sankey diagram\n",
    "\n",
    "# for every job_title, grab every organization type + count\n",
    "foo_1 = df.groupby(['job_title', 'organization_type']).snr.count().to_frame()\n",
    "foo_1.reset_index(inplace=True)\n",
    "foo_1.columns = ['source', 'target', 'value']\n",
    "\n",
    "\n",
    "# for every organization type, grab every industry + count\n",
    "foo_2 = df.groupby(['organization_type', 'industry']).snr.count().to_frame()\n",
    "foo_2.reset_index(inplace=True)\n",
    "foo_2.columns = ['source', 'target', 'value']\n",
    "\n",
    "# paste them together\n",
    "df_prepped = pd.concat([foo_1, foo_2])"
   ]
  },
  {
   "cell_type": "code",
   "execution_count": 128,
   "id": "ed824a85",
   "metadata": {
    "scrolled": false
   },
   "outputs": [],
   "source": [
    "# Now apparently it needs to be split in 2..\n",
    "\n",
    "# nodes\n",
    "# {ID, label, colour}\n",
    "label = []\n",
    "label.append(df.organization_type.unique())\n",
    "label.append(df.job_title.unique())\n",
    "label.append(df.industry.unique())\n",
    "nodes = pd.DataFrame([item for sub_list in label for item in sub_list]) # flatten list\n",
    "nodes = nodes.assign(ID = range(0,len(nodes.iloc[:,0]))) # create ID column\n",
    "nodes = nodes.assign(colour = [\"#424E51\"]*len(nodes.iloc[:,0]))\n",
    "nodes.columns = [\"label\", \"ID\", \"colour\"]"
   ]
  },
  {
   "cell_type": "code",
   "execution_count": 132,
   "id": "4b69a2e3",
   "metadata": {},
   "outputs": [
    {
     "data": {
      "text/html": [
       "<div>\n",
       "<style scoped>\n",
       "    .dataframe tbody tr th:only-of-type {\n",
       "        vertical-align: middle;\n",
       "    }\n",
       "\n",
       "    .dataframe tbody tr th {\n",
       "        vertical-align: top;\n",
       "    }\n",
       "\n",
       "    .dataframe thead th {\n",
       "        text-align: right;\n",
       "    }\n",
       "</style>\n",
       "<table border=\"1\" class=\"dataframe\">\n",
       "  <thead>\n",
       "    <tr style=\"text-align: right;\">\n",
       "      <th></th>\n",
       "      <th>source</th>\n",
       "      <th>target</th>\n",
       "      <th>value</th>\n",
       "      <th>colour</th>\n",
       "    </tr>\n",
       "  </thead>\n",
       "  <tbody>\n",
       "    <tr>\n",
       "      <th>0</th>\n",
       "      <td>8</td>\n",
       "      <td>5</td>\n",
       "      <td>4</td>\n",
       "      <td>#E5DCD6</td>\n",
       "    </tr>\n",
       "    <tr>\n",
       "      <th>1</th>\n",
       "      <td>8</td>\n",
       "      <td>2</td>\n",
       "      <td>16</td>\n",
       "      <td>#E5DCD6</td>\n",
       "    </tr>\n",
       "    <tr>\n",
       "      <th>2</th>\n",
       "      <td>8</td>\n",
       "      <td>1</td>\n",
       "      <td>11</td>\n",
       "      <td>#E5DCD6</td>\n",
       "    </tr>\n",
       "    <tr>\n",
       "      <th>3</th>\n",
       "      <td>8</td>\n",
       "      <td>0</td>\n",
       "      <td>24</td>\n",
       "      <td>#E5DCD6</td>\n",
       "    </tr>\n",
       "    <tr>\n",
       "      <th>4</th>\n",
       "      <td>9</td>\n",
       "      <td>3</td>\n",
       "      <td>2</td>\n",
       "      <td>#E5DCD6</td>\n",
       "    </tr>\n",
       "    <tr>\n",
       "      <th>...</th>\n",
       "      <td>...</td>\n",
       "      <td>...</td>\n",
       "      <td>...</td>\n",
       "      <td>...</td>\n",
       "    </tr>\n",
       "    <tr>\n",
       "      <th>39</th>\n",
       "      <td>0</td>\n",
       "      <td>17</td>\n",
       "      <td>2</td>\n",
       "      <td>#E5DCD6</td>\n",
       "    </tr>\n",
       "    <tr>\n",
       "      <th>40</th>\n",
       "      <td>4</td>\n",
       "      <td>11</td>\n",
       "      <td>1</td>\n",
       "      <td>#E5DCD6</td>\n",
       "    </tr>\n",
       "    <tr>\n",
       "      <th>41</th>\n",
       "      <td>4</td>\n",
       "      <td>15</td>\n",
       "      <td>1</td>\n",
       "      <td>#E5DCD6</td>\n",
       "    </tr>\n",
       "    <tr>\n",
       "      <th>42</th>\n",
       "      <td>4</td>\n",
       "      <td>14</td>\n",
       "      <td>1</td>\n",
       "      <td>#E5DCD6</td>\n",
       "    </tr>\n",
       "    <tr>\n",
       "      <th>43</th>\n",
       "      <td>4</td>\n",
       "      <td>16</td>\n",
       "      <td>7</td>\n",
       "      <td>#E5DCD6</td>\n",
       "    </tr>\n",
       "  </tbody>\n",
       "</table>\n",
       "<p>62 rows × 4 columns</p>\n",
       "</div>"
      ],
      "text/plain": [
       "    source  target  value   colour\n",
       "0        8       5      4  #E5DCD6\n",
       "1        8       2     16  #E5DCD6\n",
       "2        8       1     11  #E5DCD6\n",
       "3        8       0     24  #E5DCD6\n",
       "4        9       3      2  #E5DCD6\n",
       "..     ...     ...    ...      ...\n",
       "39       0      17      2  #E5DCD6\n",
       "40       4      11      1  #E5DCD6\n",
       "41       4      15      1  #E5DCD6\n",
       "42       4      14      1  #E5DCD6\n",
       "43       4      16      7  #E5DCD6\n",
       "\n",
       "[62 rows x 4 columns]"
      ]
     },
     "execution_count": 132,
     "metadata": {},
     "output_type": "execute_result"
    }
   ],
   "source": [
    "# links\n",
    "# {source, target, value, link_colour}\n",
    "links = df_prepped.copy() # deep copy to prevent reference changes\n",
    "mapping = dict(zip(nodes.label, nodes.ID)) # maps labels to ID's\n",
    "links['source'] = df_prepped['source'].map(mapping)\n",
    "links['target'] = df_prepped['target'].map(mapping)\n",
    "links = links.assign(colour = [\"#E5DCD6\"]*len(links.iloc[:,0])) # add colour column\n",
    "\n",
    "links"
   ]
  },
  {
   "cell_type": "code",
   "execution_count": 133,
   "id": "ecca11cf",
   "metadata": {},
   "outputs": [
    {
     "data": {
      "application/vnd.plotly.v1+json": {
       "config": {
        "plotlyServerURL": "https://plot.ly"
       },
       "data": [
        {
         "link": {
          "source": [
           8,
           8,
           8,
           8,
           9,
           9,
           6,
           6,
           6,
           6,
           10,
           10,
           10,
           10,
           10,
           10,
           7,
           7,
           5,
           5,
           5,
           3,
           3,
           3,
           3,
           2,
           2,
           2,
           2,
           2,
           2,
           2,
           2,
           2,
           2,
           2,
           2,
           2,
           1,
           1,
           1,
           1,
           1,
           1,
           1,
           1,
           1,
           1,
           1,
           0,
           0,
           0,
           0,
           0,
           0,
           0,
           0,
           0,
           4,
           4,
           4,
           4
          ],
          "target": [
           5,
           2,
           1,
           0,
           3,
           4,
           3,
           2,
           1,
           0,
           5,
           3,
           2,
           1,
           0,
           4,
           2,
           1,
           13,
           15,
           24,
           11,
           20,
           14,
           16,
           25,
           12,
           13,
           21,
           22,
           11,
           20,
           15,
           24,
           19,
           23,
           18,
           14,
           12,
           13,
           22,
           11,
           20,
           15,
           24,
           26,
           19,
           23,
           18,
           12,
           13,
           11,
           20,
           15,
           24,
           26,
           19,
           17,
           11,
           15,
           14,
           16
          ],
          "value": [
           4,
           16,
           11,
           24,
           2,
           7,
           6,
           53,
           29,
           10,
           1,
           1,
           9,
           13,
           9,
           3,
           1,
           3,
           3,
           1,
           1,
           1,
           2,
           4,
           2,
           1,
           4,
           12,
           1,
           9,
           15,
           2,
           23,
           4,
           5,
           1,
           1,
           1,
           2,
           8,
           1,
           2,
           3,
           31,
           1,
           1,
           5,
           1,
           1,
           1,
           8,
           4,
           3,
           20,
           1,
           3,
           1,
           2,
           1,
           1,
           1,
           7
          ]
         },
         "node": {
          "color": [
           "#424E51",
           "#424E51",
           "#424E51",
           "#424E51",
           "#424E51",
           "#424E51",
           "#424E51",
           "#424E51",
           "#424E51",
           "#424E51",
           "#424E51",
           "#424E51",
           "#424E51",
           "#424E51",
           "#424E51",
           "#424E51",
           "#424E51",
           "#424E51",
           "#424E51",
           "#424E51",
           "#424E51",
           "#424E51",
           "#424E51",
           "#424E51",
           "#424E51",
           "#424E51",
           "#424E51"
          ],
          "label": [
           "Start-up/Scale-up",
           "SME",
           "Large corporates & multinationals",
           "Government, municipalities and non-profit",
           "University or academic institute",
           "Freelance",
           "Entrepreneurial Data Analyst",
           "Other",
           "Data Consultant/Entrepreneur",
           "Data-Driven Researcher/PHD-Candidate",
           "Entrepreneurial Data Engineer",
           "Finance",
           "Building and Construction",
           "Consulting",
           "Public governance",
           "Information Tech. & Services",
           "Research/Education",
           "Marketing and advertising",
           "Others",
           "Manufacturing",
           "Healthcare",
           "Energy & Sustainability",
           "FMCG",
           "Media and entertainment",
           "Information tech. & services",
           "Automotive",
           "Leisure, media, entertainment"
          ],
          "line": {
           "color": "black",
           "width": 0.5
          },
          "pad": 15,
          "thickness": 20
         },
         "type": "sankey"
        }
       ],
       "layout": {
        "font": {
         "size": 10
        },
        "template": {
         "data": {
          "bar": [
           {
            "error_x": {
             "color": "#2a3f5f"
            },
            "error_y": {
             "color": "#2a3f5f"
            },
            "marker": {
             "line": {
              "color": "#E5ECF6",
              "width": 0.5
             },
             "pattern": {
              "fillmode": "overlay",
              "size": 10,
              "solidity": 0.2
             }
            },
            "type": "bar"
           }
          ],
          "barpolar": [
           {
            "marker": {
             "line": {
              "color": "#E5ECF6",
              "width": 0.5
             },
             "pattern": {
              "fillmode": "overlay",
              "size": 10,
              "solidity": 0.2
             }
            },
            "type": "barpolar"
           }
          ],
          "carpet": [
           {
            "aaxis": {
             "endlinecolor": "#2a3f5f",
             "gridcolor": "white",
             "linecolor": "white",
             "minorgridcolor": "white",
             "startlinecolor": "#2a3f5f"
            },
            "baxis": {
             "endlinecolor": "#2a3f5f",
             "gridcolor": "white",
             "linecolor": "white",
             "minorgridcolor": "white",
             "startlinecolor": "#2a3f5f"
            },
            "type": "carpet"
           }
          ],
          "choropleth": [
           {
            "colorbar": {
             "outlinewidth": 0,
             "ticks": ""
            },
            "type": "choropleth"
           }
          ],
          "contour": [
           {
            "colorbar": {
             "outlinewidth": 0,
             "ticks": ""
            },
            "colorscale": [
             [
              0,
              "#0d0887"
             ],
             [
              0.1111111111111111,
              "#46039f"
             ],
             [
              0.2222222222222222,
              "#7201a8"
             ],
             [
              0.3333333333333333,
              "#9c179e"
             ],
             [
              0.4444444444444444,
              "#bd3786"
             ],
             [
              0.5555555555555556,
              "#d8576b"
             ],
             [
              0.6666666666666666,
              "#ed7953"
             ],
             [
              0.7777777777777778,
              "#fb9f3a"
             ],
             [
              0.8888888888888888,
              "#fdca26"
             ],
             [
              1,
              "#f0f921"
             ]
            ],
            "type": "contour"
           }
          ],
          "contourcarpet": [
           {
            "colorbar": {
             "outlinewidth": 0,
             "ticks": ""
            },
            "type": "contourcarpet"
           }
          ],
          "heatmap": [
           {
            "colorbar": {
             "outlinewidth": 0,
             "ticks": ""
            },
            "colorscale": [
             [
              0,
              "#0d0887"
             ],
             [
              0.1111111111111111,
              "#46039f"
             ],
             [
              0.2222222222222222,
              "#7201a8"
             ],
             [
              0.3333333333333333,
              "#9c179e"
             ],
             [
              0.4444444444444444,
              "#bd3786"
             ],
             [
              0.5555555555555556,
              "#d8576b"
             ],
             [
              0.6666666666666666,
              "#ed7953"
             ],
             [
              0.7777777777777778,
              "#fb9f3a"
             ],
             [
              0.8888888888888888,
              "#fdca26"
             ],
             [
              1,
              "#f0f921"
             ]
            ],
            "type": "heatmap"
           }
          ],
          "heatmapgl": [
           {
            "colorbar": {
             "outlinewidth": 0,
             "ticks": ""
            },
            "colorscale": [
             [
              0,
              "#0d0887"
             ],
             [
              0.1111111111111111,
              "#46039f"
             ],
             [
              0.2222222222222222,
              "#7201a8"
             ],
             [
              0.3333333333333333,
              "#9c179e"
             ],
             [
              0.4444444444444444,
              "#bd3786"
             ],
             [
              0.5555555555555556,
              "#d8576b"
             ],
             [
              0.6666666666666666,
              "#ed7953"
             ],
             [
              0.7777777777777778,
              "#fb9f3a"
             ],
             [
              0.8888888888888888,
              "#fdca26"
             ],
             [
              1,
              "#f0f921"
             ]
            ],
            "type": "heatmapgl"
           }
          ],
          "histogram": [
           {
            "marker": {
             "pattern": {
              "fillmode": "overlay",
              "size": 10,
              "solidity": 0.2
             }
            },
            "type": "histogram"
           }
          ],
          "histogram2d": [
           {
            "colorbar": {
             "outlinewidth": 0,
             "ticks": ""
            },
            "colorscale": [
             [
              0,
              "#0d0887"
             ],
             [
              0.1111111111111111,
              "#46039f"
             ],
             [
              0.2222222222222222,
              "#7201a8"
             ],
             [
              0.3333333333333333,
              "#9c179e"
             ],
             [
              0.4444444444444444,
              "#bd3786"
             ],
             [
              0.5555555555555556,
              "#d8576b"
             ],
             [
              0.6666666666666666,
              "#ed7953"
             ],
             [
              0.7777777777777778,
              "#fb9f3a"
             ],
             [
              0.8888888888888888,
              "#fdca26"
             ],
             [
              1,
              "#f0f921"
             ]
            ],
            "type": "histogram2d"
           }
          ],
          "histogram2dcontour": [
           {
            "colorbar": {
             "outlinewidth": 0,
             "ticks": ""
            },
            "colorscale": [
             [
              0,
              "#0d0887"
             ],
             [
              0.1111111111111111,
              "#46039f"
             ],
             [
              0.2222222222222222,
              "#7201a8"
             ],
             [
              0.3333333333333333,
              "#9c179e"
             ],
             [
              0.4444444444444444,
              "#bd3786"
             ],
             [
              0.5555555555555556,
              "#d8576b"
             ],
             [
              0.6666666666666666,
              "#ed7953"
             ],
             [
              0.7777777777777778,
              "#fb9f3a"
             ],
             [
              0.8888888888888888,
              "#fdca26"
             ],
             [
              1,
              "#f0f921"
             ]
            ],
            "type": "histogram2dcontour"
           }
          ],
          "mesh3d": [
           {
            "colorbar": {
             "outlinewidth": 0,
             "ticks": ""
            },
            "type": "mesh3d"
           }
          ],
          "parcoords": [
           {
            "line": {
             "colorbar": {
              "outlinewidth": 0,
              "ticks": ""
             }
            },
            "type": "parcoords"
           }
          ],
          "pie": [
           {
            "automargin": true,
            "type": "pie"
           }
          ],
          "scatter": [
           {
            "fillpattern": {
             "fillmode": "overlay",
             "size": 10,
             "solidity": 0.2
            },
            "type": "scatter"
           }
          ],
          "scatter3d": [
           {
            "line": {
             "colorbar": {
              "outlinewidth": 0,
              "ticks": ""
             }
            },
            "marker": {
             "colorbar": {
              "outlinewidth": 0,
              "ticks": ""
             }
            },
            "type": "scatter3d"
           }
          ],
          "scattercarpet": [
           {
            "marker": {
             "colorbar": {
              "outlinewidth": 0,
              "ticks": ""
             }
            },
            "type": "scattercarpet"
           }
          ],
          "scattergeo": [
           {
            "marker": {
             "colorbar": {
              "outlinewidth": 0,
              "ticks": ""
             }
            },
            "type": "scattergeo"
           }
          ],
          "scattergl": [
           {
            "marker": {
             "colorbar": {
              "outlinewidth": 0,
              "ticks": ""
             }
            },
            "type": "scattergl"
           }
          ],
          "scattermapbox": [
           {
            "marker": {
             "colorbar": {
              "outlinewidth": 0,
              "ticks": ""
             }
            },
            "type": "scattermapbox"
           }
          ],
          "scatterpolar": [
           {
            "marker": {
             "colorbar": {
              "outlinewidth": 0,
              "ticks": ""
             }
            },
            "type": "scatterpolar"
           }
          ],
          "scatterpolargl": [
           {
            "marker": {
             "colorbar": {
              "outlinewidth": 0,
              "ticks": ""
             }
            },
            "type": "scatterpolargl"
           }
          ],
          "scatterternary": [
           {
            "marker": {
             "colorbar": {
              "outlinewidth": 0,
              "ticks": ""
             }
            },
            "type": "scatterternary"
           }
          ],
          "surface": [
           {
            "colorbar": {
             "outlinewidth": 0,
             "ticks": ""
            },
            "colorscale": [
             [
              0,
              "#0d0887"
             ],
             [
              0.1111111111111111,
              "#46039f"
             ],
             [
              0.2222222222222222,
              "#7201a8"
             ],
             [
              0.3333333333333333,
              "#9c179e"
             ],
             [
              0.4444444444444444,
              "#bd3786"
             ],
             [
              0.5555555555555556,
              "#d8576b"
             ],
             [
              0.6666666666666666,
              "#ed7953"
             ],
             [
              0.7777777777777778,
              "#fb9f3a"
             ],
             [
              0.8888888888888888,
              "#fdca26"
             ],
             [
              1,
              "#f0f921"
             ]
            ],
            "type": "surface"
           }
          ],
          "table": [
           {
            "cells": {
             "fill": {
              "color": "#EBF0F8"
             },
             "line": {
              "color": "white"
             }
            },
            "header": {
             "fill": {
              "color": "#C8D4E3"
             },
             "line": {
              "color": "white"
             }
            },
            "type": "table"
           }
          ]
         },
         "layout": {
          "annotationdefaults": {
           "arrowcolor": "#2a3f5f",
           "arrowhead": 0,
           "arrowwidth": 1
          },
          "autotypenumbers": "strict",
          "coloraxis": {
           "colorbar": {
            "outlinewidth": 0,
            "ticks": ""
           }
          },
          "colorscale": {
           "diverging": [
            [
             0,
             "#8e0152"
            ],
            [
             0.1,
             "#c51b7d"
            ],
            [
             0.2,
             "#de77ae"
            ],
            [
             0.3,
             "#f1b6da"
            ],
            [
             0.4,
             "#fde0ef"
            ],
            [
             0.5,
             "#f7f7f7"
            ],
            [
             0.6,
             "#e6f5d0"
            ],
            [
             0.7,
             "#b8e186"
            ],
            [
             0.8,
             "#7fbc41"
            ],
            [
             0.9,
             "#4d9221"
            ],
            [
             1,
             "#276419"
            ]
           ],
           "sequential": [
            [
             0,
             "#0d0887"
            ],
            [
             0.1111111111111111,
             "#46039f"
            ],
            [
             0.2222222222222222,
             "#7201a8"
            ],
            [
             0.3333333333333333,
             "#9c179e"
            ],
            [
             0.4444444444444444,
             "#bd3786"
            ],
            [
             0.5555555555555556,
             "#d8576b"
            ],
            [
             0.6666666666666666,
             "#ed7953"
            ],
            [
             0.7777777777777778,
             "#fb9f3a"
            ],
            [
             0.8888888888888888,
             "#fdca26"
            ],
            [
             1,
             "#f0f921"
            ]
           ],
           "sequentialminus": [
            [
             0,
             "#0d0887"
            ],
            [
             0.1111111111111111,
             "#46039f"
            ],
            [
             0.2222222222222222,
             "#7201a8"
            ],
            [
             0.3333333333333333,
             "#9c179e"
            ],
            [
             0.4444444444444444,
             "#bd3786"
            ],
            [
             0.5555555555555556,
             "#d8576b"
            ],
            [
             0.6666666666666666,
             "#ed7953"
            ],
            [
             0.7777777777777778,
             "#fb9f3a"
            ],
            [
             0.8888888888888888,
             "#fdca26"
            ],
            [
             1,
             "#f0f921"
            ]
           ]
          },
          "colorway": [
           "#636efa",
           "#EF553B",
           "#00cc96",
           "#ab63fa",
           "#FFA15A",
           "#19d3f3",
           "#FF6692",
           "#B6E880",
           "#FF97FF",
           "#FECB52"
          ],
          "font": {
           "color": "#2a3f5f"
          },
          "geo": {
           "bgcolor": "white",
           "lakecolor": "white",
           "landcolor": "#E5ECF6",
           "showlakes": true,
           "showland": true,
           "subunitcolor": "white"
          },
          "hoverlabel": {
           "align": "left"
          },
          "hovermode": "closest",
          "mapbox": {
           "style": "light"
          },
          "paper_bgcolor": "white",
          "plot_bgcolor": "#E5ECF6",
          "polar": {
           "angularaxis": {
            "gridcolor": "white",
            "linecolor": "white",
            "ticks": ""
           },
           "bgcolor": "#E5ECF6",
           "radialaxis": {
            "gridcolor": "white",
            "linecolor": "white",
            "ticks": ""
           }
          },
          "scene": {
           "xaxis": {
            "backgroundcolor": "#E5ECF6",
            "gridcolor": "white",
            "gridwidth": 2,
            "linecolor": "white",
            "showbackground": true,
            "ticks": "",
            "zerolinecolor": "white"
           },
           "yaxis": {
            "backgroundcolor": "#E5ECF6",
            "gridcolor": "white",
            "gridwidth": 2,
            "linecolor": "white",
            "showbackground": true,
            "ticks": "",
            "zerolinecolor": "white"
           },
           "zaxis": {
            "backgroundcolor": "#E5ECF6",
            "gridcolor": "white",
            "gridwidth": 2,
            "linecolor": "white",
            "showbackground": true,
            "ticks": "",
            "zerolinecolor": "white"
           }
          },
          "shapedefaults": {
           "line": {
            "color": "#2a3f5f"
           }
          },
          "ternary": {
           "aaxis": {
            "gridcolor": "white",
            "linecolor": "white",
            "ticks": ""
           },
           "baxis": {
            "gridcolor": "white",
            "linecolor": "white",
            "ticks": ""
           },
           "bgcolor": "#E5ECF6",
           "caxis": {
            "gridcolor": "white",
            "linecolor": "white",
            "ticks": ""
           }
          },
          "title": {
           "x": 0.05
          },
          "xaxis": {
           "automargin": true,
           "gridcolor": "white",
           "linecolor": "white",
           "ticks": "",
           "title": {
            "standoff": 15
           },
           "zerolinecolor": "white",
           "zerolinewidth": 2
          },
          "yaxis": {
           "automargin": true,
           "gridcolor": "white",
           "linecolor": "white",
           "ticks": "",
           "title": {
            "standoff": 15
           },
           "zerolinecolor": "white",
           "zerolinewidth": 2
          }
         }
        },
        "title": {
         "text": "Basic Sankey Diagram"
        }
       }
      },
      "text/html": [
       "<div>                            <div id=\"5637cff0-b2aa-4d04-80e4-92f002695818\" class=\"plotly-graph-div\" style=\"height:525px; width:100%;\"></div>            <script type=\"text/javascript\">                require([\"plotly\"], function(Plotly) {                    window.PLOTLYENV=window.PLOTLYENV || {};                                    if (document.getElementById(\"5637cff0-b2aa-4d04-80e4-92f002695818\")) {                    Plotly.newPlot(                        \"5637cff0-b2aa-4d04-80e4-92f002695818\",                        [{\"link\":{\"source\":[8,8,8,8,9,9,6,6,6,6,10,10,10,10,10,10,7,7,5,5,5,3,3,3,3,2,2,2,2,2,2,2,2,2,2,2,2,2,1,1,1,1,1,1,1,1,1,1,1,0,0,0,0,0,0,0,0,0,4,4,4,4],\"target\":[5,2,1,0,3,4,3,2,1,0,5,3,2,1,0,4,2,1,13,15,24,11,20,14,16,25,12,13,21,22,11,20,15,24,19,23,18,14,12,13,22,11,20,15,24,26,19,23,18,12,13,11,20,15,24,26,19,17,11,15,14,16],\"value\":[4,16,11,24,2,7,6,53,29,10,1,1,9,13,9,3,1,3,3,1,1,1,2,4,2,1,4,12,1,9,15,2,23,4,5,1,1,1,2,8,1,2,3,31,1,1,5,1,1,1,8,4,3,20,1,3,1,2,1,1,1,7]},\"node\":{\"color\":[\"#424E51\",\"#424E51\",\"#424E51\",\"#424E51\",\"#424E51\",\"#424E51\",\"#424E51\",\"#424E51\",\"#424E51\",\"#424E51\",\"#424E51\",\"#424E51\",\"#424E51\",\"#424E51\",\"#424E51\",\"#424E51\",\"#424E51\",\"#424E51\",\"#424E51\",\"#424E51\",\"#424E51\",\"#424E51\",\"#424E51\",\"#424E51\",\"#424E51\",\"#424E51\",\"#424E51\"],\"label\":[\"Start-up/Scale-up\",\"SME\",\"Large corporates & multinationals\",\"Government, municipalities and non-profit\",\"University or academic institute\",\"Freelance\",\"Entrepreneurial Data Analyst\",\"Other\",\"Data Consultant/Entrepreneur\",\"Data-Driven Researcher/PHD-Candidate\",\"Entrepreneurial Data Engineer\",\"Finance\",\"Building and Construction\",\"Consulting\",\"Public governance\",\"Information Tech. & Services\",\"Research/Education\",\"Marketing and advertising\",\"Others\",\"Manufacturing\",\"Healthcare\",\"Energy & Sustainability\",\"FMCG\",\"Media and entertainment\",\"Information tech. & services\",\"Automotive\",\"Leisure, media, entertainment\"],\"line\":{\"color\":\"black\",\"width\":0.5},\"pad\":15,\"thickness\":20},\"type\":\"sankey\"}],                        {\"template\":{\"data\":{\"histogram2dcontour\":[{\"type\":\"histogram2dcontour\",\"colorbar\":{\"outlinewidth\":0,\"ticks\":\"\"},\"colorscale\":[[0.0,\"#0d0887\"],[0.1111111111111111,\"#46039f\"],[0.2222222222222222,\"#7201a8\"],[0.3333333333333333,\"#9c179e\"],[0.4444444444444444,\"#bd3786\"],[0.5555555555555556,\"#d8576b\"],[0.6666666666666666,\"#ed7953\"],[0.7777777777777778,\"#fb9f3a\"],[0.8888888888888888,\"#fdca26\"],[1.0,\"#f0f921\"]]}],\"choropleth\":[{\"type\":\"choropleth\",\"colorbar\":{\"outlinewidth\":0,\"ticks\":\"\"}}],\"histogram2d\":[{\"type\":\"histogram2d\",\"colorbar\":{\"outlinewidth\":0,\"ticks\":\"\"},\"colorscale\":[[0.0,\"#0d0887\"],[0.1111111111111111,\"#46039f\"],[0.2222222222222222,\"#7201a8\"],[0.3333333333333333,\"#9c179e\"],[0.4444444444444444,\"#bd3786\"],[0.5555555555555556,\"#d8576b\"],[0.6666666666666666,\"#ed7953\"],[0.7777777777777778,\"#fb9f3a\"],[0.8888888888888888,\"#fdca26\"],[1.0,\"#f0f921\"]]}],\"heatmap\":[{\"type\":\"heatmap\",\"colorbar\":{\"outlinewidth\":0,\"ticks\":\"\"},\"colorscale\":[[0.0,\"#0d0887\"],[0.1111111111111111,\"#46039f\"],[0.2222222222222222,\"#7201a8\"],[0.3333333333333333,\"#9c179e\"],[0.4444444444444444,\"#bd3786\"],[0.5555555555555556,\"#d8576b\"],[0.6666666666666666,\"#ed7953\"],[0.7777777777777778,\"#fb9f3a\"],[0.8888888888888888,\"#fdca26\"],[1.0,\"#f0f921\"]]}],\"heatmapgl\":[{\"type\":\"heatmapgl\",\"colorbar\":{\"outlinewidth\":0,\"ticks\":\"\"},\"colorscale\":[[0.0,\"#0d0887\"],[0.1111111111111111,\"#46039f\"],[0.2222222222222222,\"#7201a8\"],[0.3333333333333333,\"#9c179e\"],[0.4444444444444444,\"#bd3786\"],[0.5555555555555556,\"#d8576b\"],[0.6666666666666666,\"#ed7953\"],[0.7777777777777778,\"#fb9f3a\"],[0.8888888888888888,\"#fdca26\"],[1.0,\"#f0f921\"]]}],\"contourcarpet\":[{\"type\":\"contourcarpet\",\"colorbar\":{\"outlinewidth\":0,\"ticks\":\"\"}}],\"contour\":[{\"type\":\"contour\",\"colorbar\":{\"outlinewidth\":0,\"ticks\":\"\"},\"colorscale\":[[0.0,\"#0d0887\"],[0.1111111111111111,\"#46039f\"],[0.2222222222222222,\"#7201a8\"],[0.3333333333333333,\"#9c179e\"],[0.4444444444444444,\"#bd3786\"],[0.5555555555555556,\"#d8576b\"],[0.6666666666666666,\"#ed7953\"],[0.7777777777777778,\"#fb9f3a\"],[0.8888888888888888,\"#fdca26\"],[1.0,\"#f0f921\"]]}],\"surface\":[{\"type\":\"surface\",\"colorbar\":{\"outlinewidth\":0,\"ticks\":\"\"},\"colorscale\":[[0.0,\"#0d0887\"],[0.1111111111111111,\"#46039f\"],[0.2222222222222222,\"#7201a8\"],[0.3333333333333333,\"#9c179e\"],[0.4444444444444444,\"#bd3786\"],[0.5555555555555556,\"#d8576b\"],[0.6666666666666666,\"#ed7953\"],[0.7777777777777778,\"#fb9f3a\"],[0.8888888888888888,\"#fdca26\"],[1.0,\"#f0f921\"]]}],\"mesh3d\":[{\"type\":\"mesh3d\",\"colorbar\":{\"outlinewidth\":0,\"ticks\":\"\"}}],\"scatter\":[{\"fillpattern\":{\"fillmode\":\"overlay\",\"size\":10,\"solidity\":0.2},\"type\":\"scatter\"}],\"parcoords\":[{\"type\":\"parcoords\",\"line\":{\"colorbar\":{\"outlinewidth\":0,\"ticks\":\"\"}}}],\"scatterpolargl\":[{\"type\":\"scatterpolargl\",\"marker\":{\"colorbar\":{\"outlinewidth\":0,\"ticks\":\"\"}}}],\"bar\":[{\"error_x\":{\"color\":\"#2a3f5f\"},\"error_y\":{\"color\":\"#2a3f5f\"},\"marker\":{\"line\":{\"color\":\"#E5ECF6\",\"width\":0.5},\"pattern\":{\"fillmode\":\"overlay\",\"size\":10,\"solidity\":0.2}},\"type\":\"bar\"}],\"scattergeo\":[{\"type\":\"scattergeo\",\"marker\":{\"colorbar\":{\"outlinewidth\":0,\"ticks\":\"\"}}}],\"scatterpolar\":[{\"type\":\"scatterpolar\",\"marker\":{\"colorbar\":{\"outlinewidth\":0,\"ticks\":\"\"}}}],\"histogram\":[{\"marker\":{\"pattern\":{\"fillmode\":\"overlay\",\"size\":10,\"solidity\":0.2}},\"type\":\"histogram\"}],\"scattergl\":[{\"type\":\"scattergl\",\"marker\":{\"colorbar\":{\"outlinewidth\":0,\"ticks\":\"\"}}}],\"scatter3d\":[{\"type\":\"scatter3d\",\"line\":{\"colorbar\":{\"outlinewidth\":0,\"ticks\":\"\"}},\"marker\":{\"colorbar\":{\"outlinewidth\":0,\"ticks\":\"\"}}}],\"scattermapbox\":[{\"type\":\"scattermapbox\",\"marker\":{\"colorbar\":{\"outlinewidth\":0,\"ticks\":\"\"}}}],\"scatterternary\":[{\"type\":\"scatterternary\",\"marker\":{\"colorbar\":{\"outlinewidth\":0,\"ticks\":\"\"}}}],\"scattercarpet\":[{\"type\":\"scattercarpet\",\"marker\":{\"colorbar\":{\"outlinewidth\":0,\"ticks\":\"\"}}}],\"carpet\":[{\"aaxis\":{\"endlinecolor\":\"#2a3f5f\",\"gridcolor\":\"white\",\"linecolor\":\"white\",\"minorgridcolor\":\"white\",\"startlinecolor\":\"#2a3f5f\"},\"baxis\":{\"endlinecolor\":\"#2a3f5f\",\"gridcolor\":\"white\",\"linecolor\":\"white\",\"minorgridcolor\":\"white\",\"startlinecolor\":\"#2a3f5f\"},\"type\":\"carpet\"}],\"table\":[{\"cells\":{\"fill\":{\"color\":\"#EBF0F8\"},\"line\":{\"color\":\"white\"}},\"header\":{\"fill\":{\"color\":\"#C8D4E3\"},\"line\":{\"color\":\"white\"}},\"type\":\"table\"}],\"barpolar\":[{\"marker\":{\"line\":{\"color\":\"#E5ECF6\",\"width\":0.5},\"pattern\":{\"fillmode\":\"overlay\",\"size\":10,\"solidity\":0.2}},\"type\":\"barpolar\"}],\"pie\":[{\"automargin\":true,\"type\":\"pie\"}]},\"layout\":{\"autotypenumbers\":\"strict\",\"colorway\":[\"#636efa\",\"#EF553B\",\"#00cc96\",\"#ab63fa\",\"#FFA15A\",\"#19d3f3\",\"#FF6692\",\"#B6E880\",\"#FF97FF\",\"#FECB52\"],\"font\":{\"color\":\"#2a3f5f\"},\"hovermode\":\"closest\",\"hoverlabel\":{\"align\":\"left\"},\"paper_bgcolor\":\"white\",\"plot_bgcolor\":\"#E5ECF6\",\"polar\":{\"bgcolor\":\"#E5ECF6\",\"angularaxis\":{\"gridcolor\":\"white\",\"linecolor\":\"white\",\"ticks\":\"\"},\"radialaxis\":{\"gridcolor\":\"white\",\"linecolor\":\"white\",\"ticks\":\"\"}},\"ternary\":{\"bgcolor\":\"#E5ECF6\",\"aaxis\":{\"gridcolor\":\"white\",\"linecolor\":\"white\",\"ticks\":\"\"},\"baxis\":{\"gridcolor\":\"white\",\"linecolor\":\"white\",\"ticks\":\"\"},\"caxis\":{\"gridcolor\":\"white\",\"linecolor\":\"white\",\"ticks\":\"\"}},\"coloraxis\":{\"colorbar\":{\"outlinewidth\":0,\"ticks\":\"\"}},\"colorscale\":{\"sequential\":[[0.0,\"#0d0887\"],[0.1111111111111111,\"#46039f\"],[0.2222222222222222,\"#7201a8\"],[0.3333333333333333,\"#9c179e\"],[0.4444444444444444,\"#bd3786\"],[0.5555555555555556,\"#d8576b\"],[0.6666666666666666,\"#ed7953\"],[0.7777777777777778,\"#fb9f3a\"],[0.8888888888888888,\"#fdca26\"],[1.0,\"#f0f921\"]],\"sequentialminus\":[[0.0,\"#0d0887\"],[0.1111111111111111,\"#46039f\"],[0.2222222222222222,\"#7201a8\"],[0.3333333333333333,\"#9c179e\"],[0.4444444444444444,\"#bd3786\"],[0.5555555555555556,\"#d8576b\"],[0.6666666666666666,\"#ed7953\"],[0.7777777777777778,\"#fb9f3a\"],[0.8888888888888888,\"#fdca26\"],[1.0,\"#f0f921\"]],\"diverging\":[[0,\"#8e0152\"],[0.1,\"#c51b7d\"],[0.2,\"#de77ae\"],[0.3,\"#f1b6da\"],[0.4,\"#fde0ef\"],[0.5,\"#f7f7f7\"],[0.6,\"#e6f5d0\"],[0.7,\"#b8e186\"],[0.8,\"#7fbc41\"],[0.9,\"#4d9221\"],[1,\"#276419\"]]},\"xaxis\":{\"gridcolor\":\"white\",\"linecolor\":\"white\",\"ticks\":\"\",\"title\":{\"standoff\":15},\"zerolinecolor\":\"white\",\"automargin\":true,\"zerolinewidth\":2},\"yaxis\":{\"gridcolor\":\"white\",\"linecolor\":\"white\",\"ticks\":\"\",\"title\":{\"standoff\":15},\"zerolinecolor\":\"white\",\"automargin\":true,\"zerolinewidth\":2},\"scene\":{\"xaxis\":{\"backgroundcolor\":\"#E5ECF6\",\"gridcolor\":\"white\",\"linecolor\":\"white\",\"showbackground\":true,\"ticks\":\"\",\"zerolinecolor\":\"white\",\"gridwidth\":2},\"yaxis\":{\"backgroundcolor\":\"#E5ECF6\",\"gridcolor\":\"white\",\"linecolor\":\"white\",\"showbackground\":true,\"ticks\":\"\",\"zerolinecolor\":\"white\",\"gridwidth\":2},\"zaxis\":{\"backgroundcolor\":\"#E5ECF6\",\"gridcolor\":\"white\",\"linecolor\":\"white\",\"showbackground\":true,\"ticks\":\"\",\"zerolinecolor\":\"white\",\"gridwidth\":2}},\"shapedefaults\":{\"line\":{\"color\":\"#2a3f5f\"}},\"annotationdefaults\":{\"arrowcolor\":\"#2a3f5f\",\"arrowhead\":0,\"arrowwidth\":1},\"geo\":{\"bgcolor\":\"white\",\"landcolor\":\"#E5ECF6\",\"subunitcolor\":\"white\",\"showland\":true,\"showlakes\":true,\"lakecolor\":\"white\"},\"title\":{\"x\":0.05},\"mapbox\":{\"style\":\"light\"}}},\"title\":{\"text\":\"Basic Sankey Diagram\"},\"font\":{\"size\":10}},                        {\"responsive\": true}                    ).then(function(){\n",
       "                            \n",
       "var gd = document.getElementById('5637cff0-b2aa-4d04-80e4-92f002695818');\n",
       "var x = new MutationObserver(function (mutations, observer) {{\n",
       "        var display = window.getComputedStyle(gd).display;\n",
       "        if (!display || display === 'none') {{\n",
       "            console.log([gd, 'removed!']);\n",
       "            Plotly.purge(gd);\n",
       "            observer.disconnect();\n",
       "        }}\n",
       "}});\n",
       "\n",
       "// Listen for the removal of the full notebook cells\n",
       "var notebookContainer = gd.closest('#notebook-container');\n",
       "if (notebookContainer) {{\n",
       "    x.observe(notebookContainer, {childList: true});\n",
       "}}\n",
       "\n",
       "// Listen for the clearing of the current output cell\n",
       "var outputEl = gd.closest('.output');\n",
       "if (outputEl) {{\n",
       "    x.observe(outputEl, {childList: true});\n",
       "}}\n",
       "\n",
       "                        })                };                });            </script>        </div>"
      ]
     },
     "metadata": {},
     "output_type": "display_data"
    }
   ],
   "source": [
    "# create plot\n",
    "\n",
    "fig = go.Figure(data=[go.Sankey(\n",
    "    node = dict(\n",
    "      pad = 15,\n",
    "      thickness = 20,\n",
    "      line = dict(color = \"black\", width = 0.5),\n",
    "      label = nodes.label,\n",
    "      color = nodes.colour\n",
    "    ),\n",
    "    link = dict(\n",
    "      source = links.source,\n",
    "      target = links.target,\n",
    "      value = links.value\n",
    "  ))])\n",
    "\n",
    "fig.update_layout(title_text=\"Basic Sankey Diagram\", font_size=10)\n",
    "fig.show()"
   ]
  }
 ],
 "metadata": {
  "kernelspec": {
   "display_name": "Python 3 (ipykernel)",
   "language": "python",
   "name": "python3"
  },
  "language_info": {
   "codemirror_mode": {
    "name": "ipython",
    "version": 3
   },
   "file_extension": ".py",
   "mimetype": "text/x-python",
   "name": "python",
   "nbconvert_exporter": "python",
   "pygments_lexer": "ipython3",
   "version": "3.9.6"
  }
 },
 "nbformat": 4,
 "nbformat_minor": 5
}
